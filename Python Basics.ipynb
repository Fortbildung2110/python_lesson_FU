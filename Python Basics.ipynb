{
 "cells": [
  {
   "cell_type": "markdown",
   "id": "2ac040a1",
   "metadata": {},
   "source": [
    "## Python Einführung\n",
    "\n",
    "Hier wollen wir Python kennenlernen\n",
    "\n",
    "### Erste Anweisungen"
   ]
  },
  {
   "cell_type": "code",
   "execution_count": 1,
   "id": "17e16f04",
   "metadata": {},
   "outputs": [
    {
     "name": "stdout",
     "output_type": "stream",
     "text": [
      "Hello World\n"
     ]
    }
   ],
   "source": [
    "print (\"Hello World\")"
   ]
  },
  {
   "cell_type": "markdown",
   "id": "bcd7eefe",
   "metadata": {},
   "source": [
    "### Kommentare"
   ]
  },
  {
   "cell_type": "code",
   "execution_count": 2,
   "id": "2b2be8f0",
   "metadata": {},
   "outputs": [
    {
     "name": "stdout",
     "output_type": "stream",
     "text": [
      "irgendwas\n"
     ]
    }
   ],
   "source": [
    "# Dies ist ein Kommentar\n",
    "print (\"irgendwas\")"
   ]
  },
  {
   "cell_type": "markdown",
   "id": "4609f88f",
   "metadata": {},
   "source": [
    "### Einfache Datentypen"
   ]
  },
  {
   "cell_type": "code",
   "execution_count": 3,
   "id": "c24e9e0b",
   "metadata": {},
   "outputs": [
    {
     "name": "stdout",
     "output_type": "stream",
     "text": [
      "Lovelace\n"
     ]
    }
   ],
   "source": [
    "# Variablen und Wertezuweisungen (Value-Assignement)\n",
    "name = \"Lovelace\"\n",
    "print (name)"
   ]
  },
  {
   "cell_type": "code",
   "execution_count": 5,
   "id": "6e3e858a",
   "metadata": {},
   "outputs": [
    {
     "name": "stdout",
     "output_type": "stream",
     "text": [
      "Ada\n"
     ]
    }
   ],
   "source": [
    "# String - Zeichenkette\n",
    "first_name = \"Ada\"\n",
    "print (first_name)"
   ]
  },
  {
   "cell_type": "code",
   "execution_count": 6,
   "id": "481afb3c",
   "metadata": {},
   "outputs": [
    {
     "name": "stdout",
     "output_type": "stream",
     "text": [
      "37\n"
     ]
    }
   ],
   "source": [
    "# Integer - Ganzzahl\n",
    "age = 37\n",
    "print (age)"
   ]
  },
  {
   "cell_type": "code",
   "execution_count": 7,
   "id": "4383e872",
   "metadata": {},
   "outputs": [
    {
     "name": "stdout",
     "output_type": "stream",
     "text": [
      "1.7123\n"
     ]
    }
   ],
   "source": [
    "# Floats - Gleitkommazahlen\n",
    "size = 1.7123\n",
    "print (size)"
   ]
  },
  {
   "cell_type": "code",
   "execution_count": 8,
   "id": "5777a481",
   "metadata": {},
   "outputs": [
    {
     "name": "stdout",
     "output_type": "stream",
     "text": [
      "True\n",
      "False\n"
     ]
    }
   ],
   "source": [
    "# Boolean - Boolscher Wert\n",
    "knows_math = True\n",
    "print (knows_math)\n",
    "likes_gardening = False\n",
    "print (likes_gardening)"
   ]
  },
  {
   "cell_type": "code",
   "execution_count": 9,
   "id": "ad9152a5",
   "metadata": {},
   "outputs": [
    {
     "data": {
      "text/plain": [
       "str"
      ]
     },
     "execution_count": 9,
     "metadata": {},
     "output_type": "execute_result"
    }
   ],
   "source": [
    "# Typen anzeigen lassen\n",
    "type (first_name)"
   ]
  },
  {
   "cell_type": "code",
   "execution_count": 10,
   "id": "6251771a",
   "metadata": {},
   "outputs": [
    {
     "data": {
      "text/plain": [
       "37"
      ]
     },
     "execution_count": 10,
     "metadata": {},
     "output_type": "execute_result"
    }
   ],
   "source": [
    "# Der letzte Rückgabewert wird von Jupyter Notebooks ausgegeben\n",
    "name\n",
    "age"
   ]
  },
  {
   "cell_type": "code",
   "execution_count": 11,
   "id": "fbd4959f",
   "metadata": {},
   "outputs": [
    {
     "name": "stdout",
     "output_type": "stream",
     "text": [
      "Lovelace\n",
      "37\n"
     ]
    }
   ],
   "source": [
    "# wenn beide Werte zurückgegeben werden sollen\n",
    "print (name)\n",
    "print (age)"
   ]
  },
  {
   "cell_type": "markdown",
   "id": "a4464f04",
   "metadata": {},
   "source": [
    "### Operatoren"
   ]
  },
  {
   "cell_type": "code",
   "execution_count": 12,
   "id": "d1ca955d",
   "metadata": {},
   "outputs": [
    {
     "data": {
      "text/plain": [
       "10"
      ]
     },
     "execution_count": 12,
     "metadata": {},
     "output_type": "execute_result"
    }
   ],
   "source": [
    "# Addition von Integers\n",
    "5 + 5"
   ]
  },
  {
   "cell_type": "code",
   "execution_count": 13,
   "id": "66b6dbc9",
   "metadata": {},
   "outputs": [
    {
     "data": {
      "text/plain": [
       "3700"
      ]
     },
     "execution_count": 13,
     "metadata": {},
     "output_type": "execute_result"
    }
   ],
   "source": [
    "# Multiplikation\n",
    "age * 100"
   ]
  },
  {
   "cell_type": "code",
   "execution_count": 14,
   "id": "0826f4fc",
   "metadata": {},
   "outputs": [
    {
     "data": {
      "text/plain": [
       "'LovelaceLovelace'"
      ]
     },
     "execution_count": 14,
     "metadata": {},
     "output_type": "execute_result"
    }
   ],
   "source": [
    "# Verkettung von Strings\n",
    "name + name"
   ]
  },
  {
   "cell_type": "code",
   "execution_count": 15,
   "id": "510dbda3",
   "metadata": {},
   "outputs": [
    {
     "data": {
      "text/plain": [
       "'LovelaceLovelaceLovelaceLovelaceLovelaceLovelaceLovelaceLovelaceLovelaceLovelace'"
      ]
     },
     "execution_count": 15,
     "metadata": {},
     "output_type": "execute_result"
    }
   ],
   "source": [
    "# Verkettung von Strings x-mal\n",
    "name *10"
   ]
  },
  {
   "cell_type": "code",
   "execution_count": 16,
   "id": "652f8457",
   "metadata": {},
   "outputs": [
    {
     "data": {
      "text/plain": [
       "0.04627837837837838"
      ]
     },
     "execution_count": 16,
     "metadata": {},
     "output_type": "execute_result"
    }
   ],
   "source": [
    "# Division\n",
    "size / age"
   ]
  },
  {
   "cell_type": "code",
   "execution_count": 17,
   "id": "d19491bb",
   "metadata": {},
   "outputs": [
    {
     "data": {
      "text/plain": [
       "'LOVELACE'"
      ]
     },
     "execution_count": 17,
     "metadata": {},
     "output_type": "execute_result"
    }
   ],
   "source": [
    "name.upper()"
   ]
  },
  {
   "cell_type": "markdown",
   "id": "e94b68aa",
   "metadata": {},
   "source": [
    "## Listen und Dictionaries"
   ]
  },
  {
   "cell_type": "code",
   "execution_count": 21,
   "id": "9f9ef465",
   "metadata": {},
   "outputs": [],
   "source": [
    "names = [\"Lovelace\", \"Darwin\", \"Curie\", \"Hawking\"]"
   ]
  },
  {
   "cell_type": "code",
   "execution_count": 23,
   "id": "f1ff2350",
   "metadata": {},
   "outputs": [
    {
     "data": {
      "text/plain": [
       "'Darwin'"
      ]
     },
     "execution_count": 23,
     "metadata": {},
     "output_type": "execute_result"
    }
   ],
   "source": [
    "names [1]"
   ]
  },
  {
   "cell_type": "code",
   "execution_count": 24,
   "id": "0e9373e1",
   "metadata": {},
   "outputs": [
    {
     "data": {
      "text/plain": [
       "['Lovelace', 'Darwin']"
      ]
     },
     "execution_count": 24,
     "metadata": {},
     "output_type": "execute_result"
    }
   ],
   "source": [
    "names [0:2]"
   ]
  },
  {
   "cell_type": "code",
   "execution_count": 25,
   "id": "b509bcb7",
   "metadata": {},
   "outputs": [
    {
     "ename": "SyntaxError",
     "evalue": "invalid syntax (<ipython-input-25-795466450e40>, line 5)",
     "output_type": "error",
     "traceback": [
      "\u001b[1;36m  File \u001b[1;32m\"<ipython-input-25-795466450e40>\"\u001b[1;36m, line \u001b[1;32m5\u001b[0m\n\u001b[1;33m    \"Darwin\": 1809\u001b[0m\n\u001b[1;37m    ^\u001b[0m\n\u001b[1;31mSyntaxError\u001b[0m\u001b[1;31m:\u001b[0m invalid syntax\n"
     ]
    }
   ],
   "source": [
    "#Dictionary = Schlüssel/Werte-Paare\n",
    "\n",
    "author_and_birth_years = {\n",
    "    \"Lovelace\": 1815\n",
    "    \"Darwin\": 1809\n",
    "    \"Curie\": 1811\n",
    "}"
   ]
  },
  {
   "cell_type": "code",
   "execution_count": 26,
   "id": "6987b39a",
   "metadata": {},
   "outputs": [
    {
     "name": "stdout",
     "output_type": "stream",
     "text": [
      "Hello World\n"
     ]
    }
   ],
   "source": [
    "print (\"Hello World\")"
   ]
  },
  {
   "cell_type": "markdown",
   "id": "dc4d1b67",
   "metadata": {},
   "source": [
    "### for Schleifen"
   ]
  },
  {
   "cell_type": "code",
   "execution_count": 28,
   "id": "169aa020",
   "metadata": {},
   "outputs": [],
   "source": [
    "names = [\"Lovelace\", \"Darwin\", \"Noether\", \"Hawking\"] ## for Schleifen"
   ]
  },
  {
   "cell_type": "code",
   "execution_count": 31,
   "id": "8959b896",
   "metadata": {},
   "outputs": [
    {
     "name": "stdout",
     "output_type": "stream",
     "text": [
      "Lovelacedid awesome stuff\n",
      "Darwindid awesome stuff\n",
      "Noetherdid awesome stuff\n",
      "Hawkingdid awesome stuff\n"
     ]
    }
   ],
   "source": [
    "for person in names:\n",
    "    print(person + \"did awesome stuff\")"
   ]
  },
  {
   "cell_type": "markdown",
   "id": "9ebda713",
   "metadata": {},
   "source": [
    "## Bedingte Anweisungen (Conditionals)"
   ]
  },
  {
   "cell_type": "code",
   "execution_count": 34,
   "id": "5ac6e150",
   "metadata": {},
   "outputs": [
    {
     "name": "stdout",
     "output_type": "stream",
     "text": [
      "It´s warm\n"
     ]
    }
   ],
   "source": [
    "temp = 20\n",
    "if temp > 15:\n",
    "    print (\"It´s warm\")"
   ]
  },
  {
   "cell_type": "code",
   "execution_count": 35,
   "id": "a9356d7b",
   "metadata": {},
   "outputs": [
    {
     "data": {
      "text/plain": [
       "True"
      ]
     },
     "execution_count": 35,
     "metadata": {},
     "output_type": "execute_result"
    }
   ],
   "source": [
    "20 > 15"
   ]
  },
  {
   "cell_type": "code",
   "execution_count": 36,
   "id": "6de41ce0",
   "metadata": {},
   "outputs": [
    {
     "data": {
      "text/plain": [
       "False"
      ]
     },
     "execution_count": 36,
     "metadata": {},
     "output_type": "execute_result"
    }
   ],
   "source": [
    "20 > 70\n"
   ]
  },
  {
   "cell_type": "code",
   "execution_count": 37,
   "id": "3448e6e0",
   "metadata": {},
   "outputs": [],
   "source": [
    "temp = 10\n",
    "if temp > 15:\n",
    "    print (\"It´s warm\")"
   ]
  },
  {
   "cell_type": "code",
   "execution_count": 41,
   "id": "09c090d1",
   "metadata": {},
   "outputs": [
    {
     "name": "stdout",
     "output_type": "stream",
     "text": [
      "It´s hot\n"
     ]
    }
   ],
   "source": [
    "temp = 25\n",
    "if temp >= 25:\n",
    "    print(\"It´s hot\")\n",
    "elif temp >= 15:\n",
    "    print(\"It´s warm\")\n",
    "else:\n",
    "    print (\"It´s cold\")"
   ]
  },
  {
   "cell_type": "code",
   "execution_count": 43,
   "id": "06f7de18",
   "metadata": {},
   "outputs": [
    {
     "name": "stdout",
     "output_type": "stream",
     "text": [
      "C:\\Users\\nickl\n"
     ]
    }
   ],
   "source": [
    "# Pfad anzeigen mit os (für die git lesson)\n",
    "import os\n",
    "print (os.path.abspath(os.getcwd()))"
   ]
  },
  {
   "cell_type": "code",
   "execution_count": null,
   "id": "32b6fedc",
   "metadata": {},
   "outputs": [],
   "source": [
    "import csv"
   ]
  }
 ],
 "metadata": {
  "kernelspec": {
   "display_name": "Python 3",
   "language": "python",
   "name": "python3"
  },
  "language_info": {
   "codemirror_mode": {
    "name": "ipython",
    "version": 3
   },
   "file_extension": ".py",
   "mimetype": "text/x-python",
   "name": "python",
   "nbconvert_exporter": "python",
   "pygments_lexer": "ipython3",
   "version": "3.8.8"
  }
 },
 "nbformat": 4,
 "nbformat_minor": 5
}
